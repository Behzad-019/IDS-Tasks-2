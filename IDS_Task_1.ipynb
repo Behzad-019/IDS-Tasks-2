{
  "nbformat": 4,
  "nbformat_minor": 0,
  "metadata": {
    "colab": {
      "provenance": [],
      "collapsed_sections": []
    },
    "kernelspec": {
      "name": "python3",
      "display_name": "Python 3"
    },
    "language_info": {
      "name": "python"
    }
  },
  "cells": [
    {
      "cell_type": "code",
      "execution_count": null,
      "metadata": {
        "colab": {
          "base_uri": "https://localhost:8080/"
        },
        "id": "Cz5r50lcWqhi",
        "outputId": "cf5a0ba6-6693-4277-f8ae-9f839666badb"
      },
      "outputs": [
        {
          "output_type": "stream",
          "name": "stdout",
          "text": [
            "Bhuvneshwar replaces Pant in the Indian XI; Australia also make one change, bringing in Inglis for Abbott\n",
            "\n",
            "\n",
            "Pakistan leave out Shahnawaz Dahani\n",
            "\n",
            "\n",
            "Deepti Sharma and Meghana Thakur starred as the visitors clinched a low-scoring thriller at Lord's \n",
            "\n",
            "\n",
            "As per a seven-page notification, the deadline for the state units to nominate their members was September 24 and the nominations are to be filed on October 11 and 12\n",
            "\n",
            "\n",
            "The board has decided to go with a tender that combines the rights of South Africa's international cricket along with SA20\n",
            "\n",
            "\n",
            "The India head coach was drafted into the league's Code of Behaviour Committee and Technical teams at least year's BCCI AGM\n",
            "\n",
            "\n",
            "The final four wickets fell in the first session on the fifth morning as South Zone were bowled out for 234\n",
            "\n",
            "\n",
            "The South Africa captain returns from a three-month injury-fueled lay-off ahead of the India tour\n",
            "\n",
            "\n",
            "Doubts over the T20I surfaced following Kerala State Electricity Board's decision to pull the plug on the power supply to the Greenfield Stadium\n",
            "\n",
            "\n",
            "Neither Beximco Limited nor Gemcon Group, the two teams that featured regularly in the first cycle of the BPL, showed any interest to be part of the tournament\n",
            "\n",
            "\n",
            "While Gurbaz hit a fifty, Shakib contributed with both bat and ball in his side's comfortable win\n",
            "\n",
            "\n",
            "In the run chase of 275, Josh Phillippe and D'Arcy Short combined to make 190 to set up an easy win\n",
            "\n",
            "\n",
            "The SA20 has been billed as the tournament to save South African cricket. Forty years ago another competition did just that\n",
            "\n",
            "\n",
            "The 10-wicket win gives Surrey their first title since 2018\n",
            "\n",
            "\n",
            "News byte that you may have otherwise missed\n",
            "\n",
            "\n",
            "The Walt Disney-owned media house wiped the opposition out with a jaw-dropping bid estimated at $3.125 billion\n",
            "\n",
            "\n",
            "In the first part of a new feature series on Cricbuzz Plus, Bharat Sundaresan outlines the rapid changes that cricket is going through and poses questions about its future\n",
            "\n",
            "\n",
            "As cricket becomes increasingly shaped by T20 franchise leagues, a group of Indian businesses are expanding into new frontiers. What's driving them?\n",
            "\n",
            "\n",
            "If Pandit does succeed with KKR, the IPL owners might start leaning towards appointing Indian coaches\n",
            "\n",
            "\n",
            "County cricket, Essex in particular, have given back to South Africa a player who, at 33, is as close as he is going to get to complete\n",
            "\n",
            "\n",
            "The Border-Gavaskar trophy between India and Australia will consist of five Tests\n",
            "\n",
            "\n"
          ]
        }
      ],
      "source": [
        "#Behzad Khadim\n",
        "#SP20-BCS-019\n",
        "#IDS-Task-1\n",
        "#webscrapping information of cricket website headlines\n",
        "\n",
        "import requests\n",
        "from bs4 import BeautifulSoup\n",
        "import sys \n",
        "import time\n",
        "\n",
        "\n",
        "url = 'https://www.cricbuzz.com/'\n",
        "data = requests.get(url)\n",
        "html = BeautifulSoup(data.text, 'html.parser')\n",
        "\n",
        "lists = html.find_all('div',attrs={'class':'cb-nws-intr'})\n",
        "my_data = []\n",
        "\n",
        "\n",
        "for i in lists:\n",
        "    print(i.text)\n",
        "    print('\\n')\n",
        "\n",
        "\n",
        "\n"
      ]
    }
  ]
}